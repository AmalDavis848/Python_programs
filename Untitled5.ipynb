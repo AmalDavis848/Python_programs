{
  "cells": [
    {
      "cell_type": "markdown",
      "metadata": {
        "id": "view-in-github",
        "colab_type": "text"
      },
      "source": [
        "<a href=\"https://colab.research.google.com/github/AmalDavis848/Python_programs/blob/main/Untitled5.ipynb\" target=\"_parent\"><img src=\"https://colab.research.google.com/assets/colab-badge.svg\" alt=\"Open In Colab\"/></a>"
      ]
    },
    {
      "cell_type": "code",
      "execution_count": null,
      "metadata": {
        "colab": {
          "base_uri": "https://localhost:8080/"
        },
        "id": "JcVyxE-oWx9J",
        "outputId": "8d1485cd-0fbc-441f-dd2b-a71ac62fc25b"
      },
      "outputs": [
        {
          "name": "stdout",
          "output_type": "stream",
          "text": [
            "enter the limit10\n",
            "sum of even nos =  30\n"
          ]
        }
      ],
      "source": [
        "#sum of even nos\n",
        "limit=int(input(\"enter the limit\"))\n",
        "sum=0\n",
        "i=2\n",
        "while i<=limit:\n",
        "  sum=sum+i\n",
        "  i+=2\n",
        "print(\"sum of even nos = \",sum)\n"
      ]
    },
    {
      "cell_type": "code",
      "execution_count": null,
      "metadata": {
        "colab": {
          "base_uri": "https://localhost:8080/"
        },
        "id": "uABngN29b5XQ",
        "outputId": "51993e92-bbb4-4a39-921f-8caaf44febd1"
      },
      "outputs": [
        {
          "name": "stdout",
          "output_type": "stream",
          "text": [
            "enter the limit10\n",
            "sum of even nos =  3840\n"
          ]
        }
      ],
      "source": [
        "#product of even nos\n",
        "limit=int(input(\"enter the limit\"))\n",
        "sum=1\n",
        "i=2\n",
        "while i<=limit:\n",
        "  sum=sum*i\n",
        "  i+=2\n",
        "print(\"sum of even nos = \",sum)\n",
        "\n"
      ]
    },
    {
      "cell_type": "code",
      "execution_count": null,
      "metadata": {
        "colab": {
          "base_uri": "https://localhost:8080/"
        },
        "id": "SlspVbZxcjHG",
        "outputId": "ea31ffd1-bfa8-4136-f4f1-98fbdce070ba"
      },
      "outputs": [
        {
          "name": "stdout",
          "output_type": "stream",
          "text": [
            "enter the limit10\n",
            "sum of natural nos= 55\n"
          ]
        }
      ],
      "source": [
        "#sum of natural nos\n",
        "limit=int(input(\"enter the limit\"))\n",
        "sum=0\n",
        "i=1\n",
        "while i<=limit:\n",
        "  sum=sum+i\n",
        "  i+=1\n",
        "print(\"sum of natural nos=\",sum)"
      ]
    },
    {
      "cell_type": "code",
      "execution_count": null,
      "metadata": {
        "colab": {
          "base_uri": "https://localhost:8080/"
        },
        "id": "KFMVEysodbbW",
        "outputId": "b26639ff-31e3-4a6f-dcd7-c510da3e328b"
      },
      "outputs": [
        {
          "name": "stdout",
          "output_type": "stream",
          "text": [
            "enter the no 5\n",
            "factorial of  5 = 120\n"
          ]
        }
      ],
      "source": [
        "#factorial of a no\n",
        "\n",
        "num=int(input(\"enter the no \"))\n",
        "i=num\n",
        "fact=1\n",
        "while i>0:\n",
        "  fact=fact*i\n",
        "  i-=1\n",
        "print(\"factorial of \",num,\"=\",fact)\n"
      ]
    },
    {
      "cell_type": "code",
      "execution_count": null,
      "metadata": {
        "colab": {
          "background_save": true,
          "base_uri": "https://localhost:8080/"
        },
        "id": "WHNJARVrpgg3",
        "outputId": "d52658d0-b312-4594-f2f4-e0696c48777e"
      },
      "outputs": [
        {
          "name": "stdout",
          "output_type": "stream",
          "text": [
            "1\n",
            "2\n",
            "3\n",
            "4\n"
          ]
        }
      ],
      "source": [
        "#break\n",
        "i=1\n",
        "while i<=10:\n",
        "  if i==5:\n",
        "    continue\n",
        "  print(i)\n",
        "  i+=1\n",
        "\n",
        "\n"
      ]
    },
    {
      "cell_type": "code",
      "execution_count": null,
      "metadata": {
        "colab": {
          "base_uri": "https://localhost:8080/"
        },
        "id": "HhUuVAuAijWR",
        "outputId": "3e8dd9ed-6ee6-4755-dc43-a98d579eb801"
      },
      "outputs": [
        {
          "name": "stdout",
          "output_type": "stream",
          "text": [
            "enter the no 123\n",
            "sum of digits of 6\n"
          ]
        }
      ],
      "source": [
        "#sum of digits\n",
        "num=int(input(\"enter the no \"))\n",
        "sum=0\n",
        "while num>0:\n",
        "  r=num%10\n",
        "  sum=sum+r\n",
        "  num=num//10\n",
        "print(\"sum of digits of\",sum)"
      ]
    }
  ],
  "metadata": {
    "colab": {
      "provenance": [],
      "authorship_tag": "ABX9TyP4G2fqv8tG8RsLuQcQDsEp",
      "include_colab_link": true
    },
    "kernelspec": {
      "display_name": "Python 3",
      "name": "python3"
    },
    "language_info": {
      "name": "python"
    }
  },
  "nbformat": 4,
  "nbformat_minor": 0
}