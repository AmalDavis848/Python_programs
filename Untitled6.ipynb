{
  "nbformat": 4,
  "nbformat_minor": 0,
  "metadata": {
    "colab": {
      "provenance": [],
      "authorship_tag": "ABX9TyPO0ztaO4z2jQhPZnDhkIqU",
      "include_colab_link": true
    },
    "kernelspec": {
      "name": "python3",
      "display_name": "Python 3"
    },
    "language_info": {
      "name": "python"
    }
  },
  "cells": [
    {
      "cell_type": "markdown",
      "metadata": {
        "id": "view-in-github",
        "colab_type": "text"
      },
      "source": [
        "<a href=\"https://colab.research.google.com/github/AmalDavis848/Python_programs/blob/main/Untitled6.ipynb\" target=\"_parent\"><img src=\"https://colab.research.google.com/assets/colab-badge.svg\" alt=\"Open In Colab\"/></a>"
      ]
    },
    {
      "cell_type": "code",
      "execution_count": null,
      "metadata": {
        "colab": {
          "base_uri": "https://localhost:8080/"
        },
        "id": "77-HFtBr0hIK",
        "outputId": "e75f48ac-2424-4ded-8704-ae61e86126e0"
      },
      "outputs": [
        {
          "output_type": "stream",
          "name": "stdout",
          "text": [
            "current value is: 9\n",
            "current value is: 8\n",
            "current value is: 7\n",
            "current value is: 6\n",
            "current value is: 4\n",
            "current value is: 3\n",
            "current value is: 2\n",
            "current value is: 1\n",
            "current value is: 0\n",
            "thank you\n"
          ]
        }
      ],
      "source": [
        "var=10\n",
        "while var>0:\n",
        "  var=var-1\n",
        "  if var==5:\n",
        "    continue\n",
        "  print(\"current value is:\",var)\n",
        "print(\"thank you\")\n"
      ]
    },
    {
      "cell_type": "code",
      "source": [
        "for i in \"oneteam\":\n",
        "  print(i)"
      ],
      "metadata": {
        "colab": {
          "base_uri": "https://localhost:8080/"
        },
        "id": "JGQWCi7a3ajE",
        "outputId": "99018e48-cd0a-425b-e35d-0247bd3e7a4a"
      },
      "execution_count": null,
      "outputs": [
        {
          "output_type": "stream",
          "name": "stdout",
          "text": [
            "o\n",
            "n\n",
            "e\n",
            "t\n",
            "e\n",
            "a\n",
            "m\n"
          ]
        }
      ]
    },
    {
      "cell_type": "code",
      "source": [
        "mylist=[\"amal\",25,\"kaprassery\"]\n",
        "for i in mylist:\n",
        "  print(i)"
      ],
      "metadata": {
        "colab": {
          "base_uri": "https://localhost:8080/"
        },
        "id": "CfFkLOXH3l4K",
        "outputId": "23ca6d52-1da6-414a-dad6-ea4fff2bfb57"
      },
      "execution_count": null,
      "outputs": [
        {
          "output_type": "stream",
          "name": "stdout",
          "text": [
            "amal\n",
            "25\n",
            "kaprassery\n"
          ]
        }
      ]
    },
    {
      "cell_type": "code",
      "source": [
        "for i in range(10):\n",
        "  print(i)"
      ],
      "metadata": {
        "colab": {
          "base_uri": "https://localhost:8080/"
        },
        "id": "GN54Fp9N4GIn",
        "outputId": "084b8b43-ec35-4cb3-eb70-a423f8b172ce"
      },
      "execution_count": null,
      "outputs": [
        {
          "output_type": "stream",
          "name": "stdout",
          "text": [
            "0\n",
            "1\n",
            "2\n",
            "3\n",
            "4\n",
            "5\n",
            "6\n",
            "7\n",
            "8\n",
            "9\n"
          ]
        }
      ]
    },
    {
      "cell_type": "code",
      "source": [
        "for i in range(1,10):\n",
        "  print(i)"
      ],
      "metadata": {
        "colab": {
          "base_uri": "https://localhost:8080/"
        },
        "id": "P6pJ2BXk5E6s",
        "outputId": "33d4e46d-93c9-46ac-bd2d-fd25b7171f35"
      },
      "execution_count": null,
      "outputs": [
        {
          "output_type": "stream",
          "name": "stdout",
          "text": [
            "1\n",
            "2\n",
            "3\n",
            "4\n",
            "5\n",
            "6\n",
            "7\n",
            "8\n",
            "9\n"
          ]
        }
      ]
    },
    {
      "cell_type": "code",
      "source": [
        "for i in range(1,21,2):\n",
        "  print(i)\n"
      ],
      "metadata": {
        "colab": {
          "base_uri": "https://localhost:8080/"
        },
        "id": "hphySOUS5Qtr",
        "outputId": "6b2b7b9c-4f53-4a0e-e354-7959adabac12"
      },
      "execution_count": null,
      "outputs": [
        {
          "output_type": "stream",
          "name": "stdout",
          "text": [
            "1\n",
            "3\n",
            "5\n",
            "7\n",
            "9\n",
            "11\n",
            "13\n",
            "15\n",
            "17\n",
            "19\n"
          ]
        }
      ]
    },
    {
      "cell_type": "code",
      "source": [
        "#factoria using for loop\n",
        "num=int(input(\"enter the number\"))\n",
        "fact=1\n",
        "for i in range(num,1,-1):\n",
        "  fact=fact*i\n",
        "print(fact)"
      ],
      "metadata": {
        "colab": {
          "base_uri": "https://localhost:8080/"
        },
        "id": "7rMDqivP5bEC",
        "outputId": "35d98d87-5af7-4c0e-9ab2-b2a6059546ed"
      },
      "execution_count": null,
      "outputs": [
        {
          "output_type": "stream",
          "name": "stdout",
          "text": [
            "enter the number4\n",
            "24\n"
          ]
        }
      ]
    },
    {
      "cell_type": "code",
      "source": [
        "num=int(input(\"enter the number\"))\n",
        "#fact=1\n",
        "for i in range(1,num):\n",
        "  print(i)"
      ],
      "metadata": {
        "colab": {
          "base_uri": "https://localhost:8080/"
        },
        "id": "uG40jFlZ9GKu",
        "outputId": "420750b1-0653-414a-d13a-32d4682946ef"
      },
      "execution_count": null,
      "outputs": [
        {
          "output_type": "stream",
          "name": "stdout",
          "text": [
            "enter the number5\n",
            "5\n",
            "4\n",
            "3\n",
            "2\n"
          ]
        }
      ]
    },
    {
      "cell_type": "code",
      "source": [
        "#reverse a list\n",
        "original_list=[\"amal\",25,\"kaprassery\"]\n",
        "reversed_list=[]\n",
        "for i in original_list:\n",
        "  reversed_list.insert(0,i)\n",
        "print(reversed_list)\n",
        "print(original_list)\n"
      ],
      "metadata": {
        "colab": {
          "base_uri": "https://localhost:8080/"
        },
        "id": "ikTFdFAY7pS8",
        "outputId": "693dffe8-9285-4b83-a6cb-3dfa4c8be592"
      },
      "execution_count": null,
      "outputs": [
        {
          "output_type": "stream",
          "name": "stdout",
          "text": [
            "['kaprassery', 25, 'amal']\n",
            "['amal', 25, 'kaprassery']\n"
          ]
        }
      ]
    },
    {
      "cell_type": "code",
      "source": [
        "num=int(input(\"enter the number\"))\n",
        "for i in range(1,11,num):\n",
        "  print(i)"
      ],
      "metadata": {
        "colab": {
          "base_uri": "https://localhost:8080/"
        },
        "id": "ILtd93lL7xmz",
        "outputId": "dce1cf11-56f9-4590-c52b-7b18fbc90693"
      },
      "execution_count": null,
      "outputs": [
        {
          "output_type": "stream",
          "name": "stdout",
          "text": [
            "enter the number5\n",
            "1\n",
            "6\n"
          ]
        }
      ]
    },
    {
      "cell_type": "code",
      "source": [
        "mylist=[\"amal\"]\n",
        "rev=mylist[::-1]\n",
        "print(rev)"
      ],
      "metadata": {
        "colab": {
          "base_uri": "https://localhost:8080/"
        },
        "id": "zktdT97DFg59",
        "outputId": "338aff77-85e7-4d75-80de-2614687dd8b3"
      },
      "execution_count": null,
      "outputs": [
        {
          "output_type": "stream",
          "name": "stdout",
          "text": [
            "['amal']\n"
          ]
        }
      ]
    },
    {
      "cell_type": "code",
      "source": [
        "mylist=[\"amal\"]\n",
        "mylist.reverse()\n",
        "print(mylist)"
      ],
      "metadata": {
        "colab": {
          "base_uri": "https://localhost:8080/"
        },
        "id": "R3N-0s9m4MRT",
        "outputId": "66aa5301-0b29-4e07-8598-be40e8eecf5c"
      },
      "execution_count": null,
      "outputs": [
        {
          "output_type": "stream",
          "name": "stdout",
          "text": [
            "['amal']\n"
          ]
        }
      ]
    },
    {
      "cell_type": "code",
      "source": [
        "#string is palindrome or not\n",
        "string=input(\"enter the string \")\n",
        "if string==string[::-1]:\n",
        "  print(\"palindrome\")\n",
        "else:\n",
        "  print(\"not palindrome\")"
      ],
      "metadata": {
        "colab": {
          "base_uri": "https://localhost:8080/"
        },
        "id": "6D8BV8Vd7BKY",
        "outputId": "b929eb86-7223-49b4-f175-f5c886dc8c0b"
      },
      "execution_count": null,
      "outputs": [
        {
          "output_type": "stream",
          "name": "stdout",
          "text": [
            "enter the string amal\n",
            "not palindrome\n"
          ]
        }
      ]
    },
    {
      "cell_type": "code",
      "source": [
        "#no is palindrome or not\n",
        "num=int(input(\"enter the no\"))\n",
        "while num>0:\n",
        "  r=num%10\n"
      ],
      "metadata": {
        "id": "WSHAFz_i9rUp"
      },
      "execution_count": null,
      "outputs": []
    },
    {
      "cell_type": "code",
      "source": [
        "#automorphic no or trimorphic\n",
        "num=int(input(\"enter the no\"))\n",
        "square=num**2\n",
        "while num>0:\n",
        "  if num%10!=square%10:\n",
        "    print(\"not automorphic\")\n",
        "  else:\n",
        "    num=num//10\n",
        "    square=square//10\n",
        "  print(\"automorphic\")\n",
        "\n"
      ],
      "metadata": {
        "colab": {
          "base_uri": "https://localhost:8080/"
        },
        "id": "amSylNTdBm4c",
        "outputId": "d5fbe7df-00e1-48de-8b6e-b7ea99a998d6"
      },
      "execution_count": null,
      "outputs": [
        {
          "output_type": "stream",
          "name": "stdout",
          "text": [
            "enter the no76\n",
            "automorphic\n",
            "automorphic\n"
          ]
        }
      ]
    }
  ]
}