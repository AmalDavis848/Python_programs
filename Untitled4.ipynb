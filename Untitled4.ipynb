{
  "cells": [
    {
      "cell_type": "markdown",
      "metadata": {
        "id": "view-in-github",
        "colab_type": "text"
      },
      "source": [
        "<a href=\"https://colab.research.google.com/github/AmalDavis848/Python_programs/blob/main/Untitled4.ipynb\" target=\"_parent\"><img src=\"https://colab.research.google.com/assets/colab-badge.svg\" alt=\"Open In Colab\"/></a>"
      ]
    },
    {
      "cell_type": "code",
      "execution_count": null,
      "metadata": {
        "colab": {
          "base_uri": "https://localhost:8080/"
        },
        "id": "nZUdrnRT-qXU",
        "outputId": "c71ec6dd-3f61-4730-b27c-bdb14d368207"
      },
      "outputs": [
        {
          "name": "stdout",
          "output_type": "stream",
          "text": [
            "python programmingwelcome\n",
            "welcomewelcomewelcomewelcomewelcomewelcomewelcomewelcomewelcomewelcome\n"
          ]
        }
      ],
      "source": [
        "name=\"python programming\"\n",
        "s=\"welcome\"\n",
        "print(name+s)\n",
        "print(s *10)\n",
        "#print(name[2:7])\n",
        "#print(name[-9:-3])\n",
        "#print(name[-6:-2])\n",
        "#print(name[::-1])"
      ]
    },
    {
      "cell_type": "code",
      "source": [
        "#module math\n",
        "import math\n",
        "result=math.sqrt(25)\n",
        "print(result)"
      ],
      "metadata": {
        "colab": {
          "base_uri": "https://localhost:8080/"
        },
        "id": "mTdURBQqEPYX",
        "outputId": "a219f723-09d1-4a08-92f0-8800f8eb3354"
      },
      "execution_count": null,
      "outputs": [
        {
          "output_type": "stream",
          "name": "stdout",
          "text": [
            "5.0\n"
          ]
        }
      ]
    },
    {
      "cell_type": "code",
      "source": [
        "import math as m\n",
        "result=m.sqrt(25)\n",
        "print(result)"
      ],
      "metadata": {
        "colab": {
          "base_uri": "https://localhost:8080/"
        },
        "id": "YdxSQ4T-E0nL",
        "outputId": "6b7c130e-2f50-498e-b13f-6a9e4999504d"
      },
      "execution_count": null,
      "outputs": [
        {
          "output_type": "stream",
          "name": "stdout",
          "text": [
            "5.0\n"
          ]
        }
      ]
    },
    {
      "cell_type": "code",
      "source": [
        "from math import sqrt\n",
        "result=sqrt(25)\n",
        "print(result)"
      ],
      "metadata": {
        "colab": {
          "base_uri": "https://localhost:8080/"
        },
        "id": "sXRkRhg3FPi2",
        "outputId": "7e656ae8-94a9-4834-d1f0-ad5528be924f"
      },
      "execution_count": null,
      "outputs": [
        {
          "output_type": "stream",
          "name": "stdout",
          "text": [
            "5.0\n"
          ]
        }
      ]
    },
    {
      "cell_type": "code",
      "source": [
        "from math import *\n",
        "result=sqrt(25)\n",
        "print(result)"
      ],
      "metadata": {
        "colab": {
          "base_uri": "https://localhost:8080/"
        },
        "id": "yfIbzZLNFvzO",
        "outputId": "81cab8d4-1382-4ede-dc61-2c03f050c77d"
      },
      "execution_count": null,
      "outputs": [
        {
          "output_type": "stream",
          "name": "stdout",
          "text": [
            "5.0\n"
          ]
        }
      ]
    },
    {
      "cell_type": "code",
      "source": [
        "#lamba\n",
        "s=lambda x:x**2\n",
        "print(s(5))"
      ],
      "metadata": {
        "colab": {
          "base_uri": "https://localhost:8080/"
        },
        "id": "Bu6pfsLMKqK8",
        "outputId": "12bc3a08-03e3-4e76-fe96-a6f2390a87e2"
      },
      "execution_count": null,
      "outputs": [
        {
          "output_type": "stream",
          "name": "stdout",
          "text": [
            "25\n"
          ]
        }
      ]
    },
    {
      "cell_type": "code",
      "execution_count": null,
      "metadata": {
        "colab": {
          "base_uri": "https://localhost:8080/",
          "height": 364
        },
        "id": "wfH4gr8dcm5I",
        "outputId": "552b00d8-55af-4208-dbb5-972719e379b0"
      },
      "outputs": [
        {
          "name": "stdout",
          "output_type": "stream",
          "text": [
            "enter the number5\n"
          ]
        },
        {
          "ename": "TypeError",
          "evalue": "ignored",
          "output_type": "error",
          "traceback": [
            "\u001b[0;31m---------------------------------------------------------------------------\u001b[0m",
            "\u001b[0;31mTypeError\u001b[0m                                 Traceback (most recent call last)",
            "\u001b[0;32m<ipython-input-6-f64c0487e141>\u001b[0m in \u001b[0;36m<cell line: 9>\u001b[0;34m()\u001b[0m\n\u001b[1;32m      7\u001b[0m \u001b[0mnum\u001b[0m\u001b[0;34m=\u001b[0m\u001b[0mint\u001b[0m\u001b[0;34m(\u001b[0m\u001b[0minput\u001b[0m\u001b[0;34m(\u001b[0m\u001b[0;34m\"enter the number\"\u001b[0m\u001b[0;34m)\u001b[0m\u001b[0;34m)\u001b[0m\u001b[0;34m\u001b[0m\u001b[0;34m\u001b[0m\u001b[0m\n\u001b[1;32m      8\u001b[0m \u001b[0;31m#fact=1\u001b[0m\u001b[0;34m\u001b[0m\u001b[0;34m\u001b[0m\u001b[0m\n\u001b[0;32m----> 9\u001b[0;31m \u001b[0mfactorial\u001b[0m\u001b[0;34m(\u001b[0m\u001b[0;34m)\u001b[0m\u001b[0;34m\u001b[0m\u001b[0;34m\u001b[0m\u001b[0m\n\u001b[0m",
            "\u001b[0;32m<ipython-input-6-f64c0487e141>\u001b[0m in \u001b[0;36mfactorial\u001b[0;34m()\u001b[0m\n\u001b[1;32m      2\u001b[0m \u001b[0;32mdef\u001b[0m \u001b[0mfactorial\u001b[0m\u001b[0;34m(\u001b[0m\u001b[0;34m)\u001b[0m\u001b[0;34m:\u001b[0m\u001b[0;34m\u001b[0m\u001b[0;34m\u001b[0m\u001b[0m\n\u001b[1;32m      3\u001b[0m   \u001b[0mfact\u001b[0m\u001b[0;34m=\u001b[0m\u001b[0;36m1\u001b[0m\u001b[0;34m\u001b[0m\u001b[0;34m\u001b[0m\u001b[0m\n\u001b[0;32m----> 4\u001b[0;31m   \u001b[0;32mfor\u001b[0m \u001b[0mi\u001b[0m \u001b[0;32min\u001b[0m \u001b[0mnum\u001b[0m\u001b[0;34m(\u001b[0m\u001b[0mnum\u001b[0m\u001b[0;34m,\u001b[0m\u001b[0;36m1\u001b[0m\u001b[0;34m,\u001b[0m\u001b[0;34m-\u001b[0m\u001b[0;36m1\u001b[0m\u001b[0;34m)\u001b[0m\u001b[0;34m:\u001b[0m\u001b[0;34m\u001b[0m\u001b[0;34m\u001b[0m\u001b[0m\n\u001b[0m\u001b[1;32m      5\u001b[0m     \u001b[0mfact\u001b[0m\u001b[0;34m=\u001b[0m\u001b[0mfact\u001b[0m\u001b[0;34m*\u001b[0m\u001b[0mi\u001b[0m\u001b[0;34m\u001b[0m\u001b[0;34m\u001b[0m\u001b[0m\n\u001b[1;32m      6\u001b[0m     \u001b[0mprint\u001b[0m\u001b[0;34m(\u001b[0m\u001b[0;34m\"factorial=\"\u001b[0m\u001b[0;34m,\u001b[0m\u001b[0mfact\u001b[0m\u001b[0;34m)\u001b[0m\u001b[0;34m\u001b[0m\u001b[0;34m\u001b[0m\u001b[0m\n",
            "\u001b[0;31mTypeError\u001b[0m: 'int' object is not callable"
          ]
        }
      ],
      "source": [
        "#factoria function\n",
        "def factorial():\n",
        "  fact=1\n",
        "  for i in num(num,1,-1):\n",
        "    fact=fact*i\n",
        "    print(\"factorial=\",fact)\n",
        "num=int(input(\"enter the number\"))\n",
        "factorial()"
      ]
    },
    {
      "cell_type": "code",
      "execution_count": null,
      "metadata": {
        "colab": {
          "base_uri": "https://localhost:8080/",
          "height": 364
        },
        "id": "wmprF_mAdsZv",
        "outputId": "b6667e0e-7a32-4d03-e3f0-3fee894818ae"
      },
      "outputs": [
        {
          "name": "stdout",
          "output_type": "stream",
          "text": [
            "enter the number5\n"
          ]
        },
        {
          "ename": "TypeError",
          "evalue": "ignored",
          "output_type": "error",
          "traceback": [
            "\u001b[0;31m---------------------------------------------------------------------------\u001b[0m",
            "\u001b[0;31mTypeError\u001b[0m                                 Traceback (most recent call last)",
            "\u001b[0;32m<ipython-input-7-ad3521057277>\u001b[0m in \u001b[0;36m<cell line: 7>\u001b[0;34m()\u001b[0m\n\u001b[1;32m      5\u001b[0m     \u001b[0mprint\u001b[0m\u001b[0;34m(\u001b[0m\u001b[0;34m\"factorial=\"\u001b[0m\u001b[0;34m,\u001b[0m\u001b[0mfact\u001b[0m\u001b[0;34m)\u001b[0m\u001b[0;34m\u001b[0m\u001b[0;34m\u001b[0m\u001b[0m\n\u001b[1;32m      6\u001b[0m \u001b[0mnum\u001b[0m\u001b[0;34m=\u001b[0m\u001b[0mint\u001b[0m\u001b[0;34m(\u001b[0m\u001b[0minput\u001b[0m\u001b[0;34m(\u001b[0m\u001b[0;34m\"enter the number\"\u001b[0m\u001b[0;34m)\u001b[0m\u001b[0;34m)\u001b[0m\u001b[0;34m\u001b[0m\u001b[0;34m\u001b[0m\u001b[0m\n\u001b[0;32m----> 7\u001b[0;31m \u001b[0mfactorial\u001b[0m\u001b[0;34m(\u001b[0m\u001b[0;34m)\u001b[0m\u001b[0;34m\u001b[0m\u001b[0;34m\u001b[0m\u001b[0m\n\u001b[0m",
            "\u001b[0;32m<ipython-input-7-ad3521057277>\u001b[0m in \u001b[0;36mfactorial\u001b[0;34m()\u001b[0m\n\u001b[1;32m      1\u001b[0m \u001b[0;32mdef\u001b[0m \u001b[0mfactorial\u001b[0m\u001b[0;34m(\u001b[0m\u001b[0;34m)\u001b[0m\u001b[0;34m:\u001b[0m\u001b[0;34m\u001b[0m\u001b[0;34m\u001b[0m\u001b[0m\n\u001b[1;32m      2\u001b[0m   \u001b[0mfact\u001b[0m\u001b[0;34m=\u001b[0m\u001b[0;36m1\u001b[0m\u001b[0;34m\u001b[0m\u001b[0;34m\u001b[0m\u001b[0m\n\u001b[0;32m----> 3\u001b[0;31m   \u001b[0;32mfor\u001b[0m \u001b[0mi\u001b[0m \u001b[0;32min\u001b[0m \u001b[0mnum\u001b[0m\u001b[0;34m(\u001b[0m\u001b[0mnum\u001b[0m\u001b[0;34m,\u001b[0m\u001b[0;36m1\u001b[0m\u001b[0;34m,\u001b[0m\u001b[0;34m-\u001b[0m\u001b[0;36m1\u001b[0m\u001b[0;34m)\u001b[0m\u001b[0;34m:\u001b[0m\u001b[0;34m\u001b[0m\u001b[0;34m\u001b[0m\u001b[0m\n\u001b[0m\u001b[1;32m      4\u001b[0m     \u001b[0mfact\u001b[0m\u001b[0;34m=\u001b[0m\u001b[0mfact\u001b[0m\u001b[0;34m*\u001b[0m\u001b[0mi\u001b[0m\u001b[0;34m\u001b[0m\u001b[0;34m\u001b[0m\u001b[0m\n\u001b[1;32m      5\u001b[0m     \u001b[0mprint\u001b[0m\u001b[0;34m(\u001b[0m\u001b[0;34m\"factorial=\"\u001b[0m\u001b[0;34m,\u001b[0m\u001b[0mfact\u001b[0m\u001b[0;34m)\u001b[0m\u001b[0;34m\u001b[0m\u001b[0;34m\u001b[0m\u001b[0m\n",
            "\u001b[0;31mTypeError\u001b[0m: 'int' object is not callable"
          ]
        }
      ],
      "source": [
        "def factorial():\n",
        "  fact=1\n",
        "  for i in num(num,1,-1):\n",
        "    fact=fact*i\n",
        "    print(\"factorial=\",fact)\n",
        "num=int(input(\"enter the number\"))\n",
        "factorial()"
      ]
    },
    {
      "cell_type": "code",
      "execution_count": null,
      "metadata": {
        "colab": {
          "base_uri": "https://localhost:8080/"
        },
        "id": "F1BxDB37C8l-",
        "outputId": "12bcf42c-af09-46c5-a092-5c91fea33ee4"
      },
      "outputs": [
        {
          "name": "stdout",
          "output_type": "stream",
          "text": [
            "prass\n"
          ]
        }
      ],
      "source": [
        "#list programs :\n",
        "mylist=[\"amal\",25,\"kaprassery\",97986]\n",
        "#print(mylist)\n",
        "#print(mylist[1:3])\n",
        "print(mylist[2][2:7])\n"
      ]
    },
    {
      "cell_type": "code",
      "execution_count": null,
      "metadata": {
        "colab": {
          "base_uri": "https://localhost:8080/"
        },
        "id": "btUJNcp4F8jw",
        "outputId": "16813be6-890a-4ec5-cc2b-bc8096aa96a2"
      },
      "outputs": [
        {
          "name": "stdout",
          "output_type": "stream",
          "text": [
            "enter the no 10\n",
            "not prime\n"
          ]
        }
      ],
      "source": [
        "num=int(input(\"enter the no \"))\n",
        "count=0\n",
        "for i in range(2,num):\n",
        "  if num % i==0:\n",
        "    count=1\n",
        "    break\n",
        "if count==1:\n",
        "  print(\"not prime\")\n",
        "else:\n",
        "  print(\"prime no\")\n"
      ]
    },
    {
      "cell_type": "code",
      "execution_count": null,
      "metadata": {
        "colab": {
          "base_uri": "https://localhost:8080/"
        },
        "id": "vbFruy9RHCKH",
        "outputId": "548a077f-0924-4ff6-deec-8488fbc0b06b"
      },
      "outputs": [
        {
          "name": "stdout",
          "output_type": "stream",
          "text": [
            "{1: 1, 2: 4, 3: 9, 4: 16}\n",
            "{'name': 'amal', 'age': 25, 'place': 'kaprassery'}\n",
            "amal\n"
          ]
        }
      ],
      "source": [
        "mydict={1:1,2:4,3:9,4:16}\n",
        "mypro={'name':'amal','age':25,'place':'kaprassery'}\n",
        "print(mydict)\n",
        "print(mypro)\n",
        "print(mypro['name'])"
      ]
    },
    {
      "cell_type": "code",
      "execution_count": null,
      "metadata": {
        "colab": {
          "base_uri": "https://localhost:8080/"
        },
        "id": "j-vJ2ig_NnXd",
        "outputId": "d22d99a9-ba61-4d9a-c5d4-b86eba55d94a"
      },
      "outputs": [
        {
          "name": "stdout",
          "output_type": "stream",
          "text": [
            "enter 1 for jan \n",
            " 2 for feb \n",
            " 3 for march\n",
            "4 for april\n",
            " 5 for may\n",
            " 6 for june\n",
            "7 for july\n",
            " 8 for aug\n",
            "9 for sept\n",
            "10 for oct\n",
            " 11 for nov\n",
            "12 for dec\n",
            "5\n",
            "season is spring\n"
          ]
        }
      ],
      "source": [
        "month=int(input(\"enter 1 for jan \\n 2 for feb \\n 3 for march\\n4 for april\\n 5 for may\\n 6 for june\\n7 for july\\n 8 for aug\\n9 for sept\\n10 for oct\\n 11 for nov\\n12 for dec\\n\"))\n",
        "if month >=3 and month <=5:\n",
        "  print(\"season is spring\")\n",
        "elif month >=6 and month <=8:\n",
        "  print(\"season is summer\")\n",
        "elif month >=9 and month <=11:\n",
        "  print(\"season is autumn\")\n",
        "else:\n",
        "  print(\"season is winter\")\n"
      ]
    },
    {
      "cell_type": "code",
      "execution_count": null,
      "metadata": {
        "colab": {
          "base_uri": "https://localhost:8080/"
        },
        "id": "OG7OVy3DSXx3",
        "outputId": "e6410a2e-0e4e-4b52-ba48-fa4988b8dfef"
      },
      "outputs": [
        {
          "name": "stdout",
          "output_type": "stream",
          "text": [
            "enter the year2004\n",
            "2004 not leap year\n"
          ]
        }
      ],
      "source": [
        "year=int(input(\"enter the year\"))\n",
        "if year % 4==0:\n",
        "  if year % 400==0:\n",
        "    if year % 100==0:\n",
        "      print(year,\"is leap year\")\n",
        "    else:\n",
        "      print(year,\"not leap year\")\n",
        "  else:\n",
        "    print(year,\"not leap year\")\n",
        "else:\n",
        "  print(year,\"not leap year\")"
      ]
    },
    {
      "cell_type": "code",
      "execution_count": null,
      "metadata": {
        "colab": {
          "base_uri": "https://localhost:8080/"
        },
        "id": "7xWDkw1IT_6V",
        "outputId": "6031ae81-8ae6-4e0a-ef51-a161286cf661"
      },
      "outputs": [
        {
          "name": "stdout",
          "output_type": "stream",
          "text": [
            "enter the year2002\n",
            "not leap year\n"
          ]
        }
      ],
      "source": [
        "year=int(input(\"enter the year\"))\n",
        "if year%400==0 or year%100!=0 and year%4==0:\n",
        "  print(\"leap year\")\n",
        "else:\n",
        "  print(\"not leap year\")"
      ]
    },
    {
      "cell_type": "code",
      "execution_count": null,
      "metadata": {
        "colab": {
          "base_uri": "https://localhost:8080/"
        },
        "id": "RNz6EaRrO1Fh",
        "outputId": "11fe4f6b-71a2-453c-a857-eef8e0533d75"
      },
      "outputs": [
        {
          "name": "stdout",
          "output_type": "stream",
          "text": [
            "<class 'int'>\n",
            "<class 'str'>\n",
            "10\n"
          ]
        }
      ],
      "source": [
        "a=10\n",
        "print(type(a))\n",
        "s=str(a)\n",
        "print(type(s))\n",
        "print(s)"
      ]
    },
    {
      "cell_type": "code",
      "execution_count": null,
      "metadata": {
        "id": "BxQjwBtXPk9z"
      },
      "outputs": [],
      "source": []
    },
    {
      "cell_type": "code",
      "execution_count": null,
      "metadata": {
        "colab": {
          "base_uri": "https://localhost:8080/"
        },
        "id": "ukDhTIY6W3PX",
        "outputId": "570c60d8-a944-4856-f2ab-31548ab0fc9c"
      },
      "outputs": [
        {
          "name": "stdout",
          "output_type": "stream",
          "text": [
            "enter the temperature5\n",
            "wear heavy coat and warm pants\n"
          ]
        }
      ],
      "source": [
        "temp=float(input(\"enter the temperature\"))\n",
        "if temp>=70:\n",
        "  print(\"wear shorts and tshirts\")\n",
        "elif temp>50 and temp<69:\n",
        "  print(\"wear jeans and jacket\")\n",
        "else:\n",
        "  print(\"wear heavy coat and warm pants\")"
      ]
    },
    {
      "cell_type": "code",
      "execution_count": null,
      "metadata": {
        "colab": {
          "base_uri": "https://localhost:8080/"
        },
        "id": "cWL4q78sUsM4",
        "outputId": "7450b974-03c7-43cd-9e8d-96a14e777d74"
      },
      "outputs": [
        {
          "name": "stdout",
          "output_type": "stream",
          "text": [
            "enter the no-8\n",
            "negative\n"
          ]
        }
      ],
      "source": [
        "num=int(input(\"enter the no\"))\n",
        "if num>0:\n",
        "  print(\"positive\")\n",
        "elif num==0:\n",
        "  print(\"zero\")\n",
        "else:\n",
        "  print(\"negative\")"
      ]
    },
    {
      "cell_type": "code",
      "execution_count": null,
      "metadata": {
        "colab": {
          "base_uri": "https://localhost:8080/"
        },
        "id": "x4yH_whTKrqO",
        "outputId": "c5069a32-9c2d-4b21-efd4-95857d4fbcd1"
      },
      "outputs": [
        {
          "name": "stdout",
          "output_type": "stream",
          "text": [
            "{'a', 2, 375, 29, 'one team'}\n"
          ]
        }
      ],
      "source": [
        "myset={29,2,375,\"one team\",2,'a'}\n",
        "print(myset)"
      ]
    },
    {
      "cell_type": "code",
      "execution_count": null,
      "metadata": {
        "colab": {
          "base_uri": "https://localhost:8080/"
        },
        "id": "c2i339JwIMJZ",
        "outputId": "9473b312-b406-4393-91c3-d9c2d2cce3bf"
      },
      "outputs": [
        {
          "name": "stdout",
          "output_type": "stream",
          "text": [
            "('amal', 25, 'kaprassery')\n"
          ]
        }
      ],
      "source": [
        "mylist=('amal',25,'kaprassery')\n",
        "print(mylist)"
      ]
    },
    {
      "cell_type": "code",
      "execution_count": null,
      "metadata": {
        "colab": {
          "base_uri": "https://localhost:8080/"
        },
        "id": "Sb9-ZhUJPp68",
        "outputId": "29796b15-0683-43c6-f398-8a5645b270f3"
      },
      "outputs": [
        {
          "name": "stdout",
          "output_type": "stream",
          "text": [
            "['jhon vick', 41, 'auva', 9857487382]\n",
            "<class 'list'>\n",
            "<class 'tuple'>\n"
          ]
        }
      ],
      "source": [
        "mylist=[\"jhon vick\",41,\"auva\",9857487382]\n",
        "print(mylist)\n",
        "print(type(mylist))\n",
        "s=(tuple(mylist))\n",
        "print(type(s))"
      ]
    },
    {
      "cell_type": "code",
      "execution_count": null,
      "metadata": {
        "colab": {
          "base_uri": "https://localhost:8080/"
        },
        "id": "TAZfP0p1WQ07",
        "outputId": "6856ae66-7d26-4f6a-eb22-84f9eede9ef3"
      },
      "outputs": [
        {
          "name": "stdout",
          "output_type": "stream",
          "text": [
            "1\n",
            "2\n",
            "3\n",
            "4\n",
            "5\n",
            "6\n",
            "7\n",
            "8\n",
            "9\n",
            "10\n",
            "11\n",
            "12\n",
            "13\n",
            "14\n",
            "15\n",
            "16\n",
            "17\n",
            "18\n",
            "19\n",
            "20\n",
            "21\n",
            "22\n",
            "23\n",
            "24\n",
            "25\n",
            "26\n",
            "27\n",
            "28\n",
            "29\n",
            "30\n",
            "31\n",
            "32\n",
            "33\n",
            "34\n",
            "35\n",
            "36\n",
            "37\n",
            "38\n",
            "39\n",
            "40\n",
            "41\n",
            "42\n",
            "43\n",
            "44\n",
            "45\n",
            "46\n",
            "47\n",
            "48\n",
            "49\n",
            "50\n"
          ]
        }
      ],
      "source": [
        "i=1\n",
        "while i<=50:\n",
        "  print(i)\n",
        "  i+=1"
      ]
    },
    {
      "cell_type": "code",
      "execution_count": null,
      "metadata": {
        "colab": {
          "base_uri": "https://localhost:8080/"
        },
        "id": "FTiOUKnjZK8p",
        "outputId": "24b4c783-42e6-4212-82dd-28da5a655db0"
      },
      "outputs": [
        {
          "name": "stdout",
          "output_type": "stream",
          "text": [
            "2\n",
            "4\n",
            "6\n",
            "8\n",
            "10\n",
            "12\n",
            "14\n",
            "16\n",
            "18\n",
            "20\n",
            "22\n",
            "24\n",
            "26\n",
            "28\n",
            "30\n",
            "32\n",
            "34\n",
            "36\n",
            "38\n",
            "40\n",
            "42\n",
            "44\n",
            "46\n",
            "48\n",
            "50\n"
          ]
        }
      ],
      "source": [
        "i=2\n",
        "while i<=50:\n",
        "    print(i)\n",
        "    i+=2"
      ]
    },
    {
      "cell_type": "code",
      "execution_count": null,
      "metadata": {
        "id": "6HbCqP43Z9b2"
      },
      "outputs": [],
      "source": [
        "num=int(input(\"enter the number\"))\n",
        "i=1\n",
        "while i<=10:\n",
        "  print(i,\"*\",num,\"=\",i*num)\n",
        "  i+=1\n"
      ]
    },
    {
      "cell_type": "code",
      "execution_count": null,
      "metadata": {
        "colab": {
          "base_uri": "https://localhost:8080/"
        },
        "id": "qFiBWdaJj3b9",
        "outputId": "3f70ecfd-c4fa-424f-9625-5e06fbc3c008"
      },
      "outputs": [
        {
          "name": "stdout",
          "output_type": "stream",
          "text": [
            "enter 1 for addition\n",
            "2 for substraction\n",
            "3 for multiplication\n",
            "4 for division\n",
            "1\n",
            "enter the first no4\n",
            "enter the secnd no6\n",
            "sum=  10\n"
          ]
        }
      ],
      "source": [
        "#calculator using ifelse\n",
        "\n",
        "choice=int(input(\"enter 1 for addition\\n2 for substraction\\n3 for multiplication\\n4 for division\\n\"))\n",
        "if choice==1:\n",
        "    num1 = int(input(\"enter the first no \"))\n",
        "    num2 = int(input(\"enter the secnd no \"))\n",
        "    sum=num1+num2\n",
        "    print(\"sum= \",sum)\n",
        "elif choice==2:\n",
        "    num1 = int(input(\"enter the first no \"))\n",
        "    num2 = int(input(\"enter the secnd no \"))\n",
        "    sum=num1-num2\n",
        "    print(\"sum= \",sum)\n",
        "elif choice==3:\n",
        "    num1 = int(input(\"enter the first no \"))\n",
        "    num2 = int(input(\"enter the secnd no \"))\n",
        "    sum=num1*num2\n",
        "    print(\"sum= \",sum)\n",
        "elif choice==4:\n",
        "    num1 = int(input(\"enter the first no \"))\n",
        "    num2 = int(input(\"enter the secnd no \"))\n",
        "    sum=num1/num2\n",
        "    print(\"sum=\",sum)\n",
        "else:\n",
        "    print(\"invalid entry\")"
      ]
    },
    {
      "cell_type": "code",
      "execution_count": null,
      "metadata": {
        "colab": {
          "base_uri": "https://localhost:8080/"
        },
        "id": "STmLeuKknxPH",
        "outputId": "3a9a466e-f134-4805-ba2a-ac2116202548"
      },
      "outputs": [
        {
          "name": "stdout",
          "output_type": "stream",
          "text": [
            "enter the first angle of triangle90\n",
            "enter the secnd angle of triangle60\n",
            "enter the third angle of triangle30\n",
            "it is a right triangle\n"
          ]
        }
      ],
      "source": [
        "#right triangle or not\n",
        "a1=int(input(\"enter the first angle of triangle\"))\n",
        "a2=int(input(\"enter the secnd angle of triangle\"))\n",
        "a3=int(input(\"enter the third angle of triangle\"))\n",
        "sum=a1+a2+a3\n",
        "if sum==180:\n",
        "    if a1==90 or a2==90 or a3==90:\n",
        "        print(\"it is a right triangle\")\n",
        "    else:\n",
        "        print(\"not a right triangle\")\n",
        "else:\n",
        "    print(\"not a right triangle\")"
      ]
    },
    {
      "cell_type": "code",
      "execution_count": null,
      "metadata": {
        "colab": {
          "base_uri": "https://localhost:8080/"
        },
        "id": "dQYo2x95SSOW",
        "outputId": "cdba3b7a-20d8-4d38-b702-c5cb336245f3"
      },
      "outputs": [
        {
          "name": "stdout",
          "output_type": "stream",
          "text": [
            "18\n",
            "PYTHON PROGRAMMING\n",
            "python programming\n",
            "Python programming\n",
            "3\n",
            "hello,hello,hello,hi\n",
            "['apple,orange,banana']\n"
          ]
        }
      ],
      "source": [
        "#string inbuilt functions\n",
        "string=\"python programming\"\n",
        "print(len(string))\n",
        "print(string.upper())\n",
        "print(string.lower())\n",
        "print(string.capitalize())\n",
        "s=\"hello,hello,hello,world\"\n",
        "print(s.count(\"hello\"))\n",
        "print(s.replace(\"world\",\"hi\"))\n",
        "string=\"apple,orange,banana\"\n",
        "fruits=string.split()\n",
        "print(fruits)\n",
        "\n"
      ]
    },
    {
      "cell_type": "code",
      "execution_count": null,
      "metadata": {
        "colab": {
          "base_uri": "https://localhost:8080/"
        },
        "id": "eyL03U2lapLR",
        "outputId": "79528184-5e78-4634-abf1-195106939020"
      },
      "outputs": [
        {
          "name": "stdout",
          "output_type": "stream",
          "text": [
            "[1, 2, 3, 4]\n"
          ]
        }
      ],
      "source": [
        "#list inbuilt functions\n",
        "#append()\n",
        "list=[1,2,3]\n",
        "list.append(4)\n",
        "print(list)"
      ]
    },
    {
      "cell_type": "code",
      "execution_count": null,
      "metadata": {
        "colab": {
          "base_uri": "https://localhost:8080/"
        },
        "id": "KHd5XmW-dBEq",
        "outputId": "915f0589-9677-4375-fddf-0e1b81c9394e"
      },
      "outputs": [
        {
          "name": "stdout",
          "output_type": "stream",
          "text": [
            "[1, 2, 3, 4, 5, 6]\n"
          ]
        }
      ],
      "source": [
        "#extend()\n",
        "list=[1,2,3]\n",
        "list.extend([4,5,6])\n",
        "print(list)"
      ]
    },
    {
      "cell_type": "code",
      "execution_count": null,
      "metadata": {
        "colab": {
          "base_uri": "https://localhost:8080/"
        },
        "id": "9riVEJ6-df4F",
        "outputId": "389bfd99-59dc-4905-ce87-e3e7a2b20667"
      },
      "outputs": [
        {
          "name": "stdout",
          "output_type": "stream",
          "text": [
            "[4, 1, 2, 3]\n"
          ]
        }
      ],
      "source": [
        "#insert()\n",
        "list=[1,2,3]\n",
        "list.insert(0,4)\n",
        "print(list)"
      ]
    },
    {
      "cell_type": "code",
      "execution_count": null,
      "metadata": {
        "colab": {
          "base_uri": "https://localhost:8080/"
        },
        "id": "G5wqFgAKd7V9",
        "outputId": "fd59f9d6-8135-41a2-99eb-74c93498e438"
      },
      "outputs": [
        {
          "name": "stdout",
          "output_type": "stream",
          "text": [
            "[1, 3, 2]\n"
          ]
        }
      ],
      "source": [
        "#remove()\n",
        "list=[1,2,3,2]\n",
        "list.remove(2)\n",
        "print(list)"
      ]
    },
    {
      "cell_type": "code",
      "execution_count": null,
      "metadata": {
        "colab": {
          "base_uri": "https://localhost:8080/"
        },
        "id": "9E9Kt1n4ePQB",
        "outputId": "70a71bdb-0f39-4d65-90f1-430d9d7069ce"
      },
      "outputs": [
        {
          "name": "stdout",
          "output_type": "stream",
          "text": [
            "[1, 2, 3]\n"
          ]
        }
      ],
      "source": [
        "#pop()\n",
        "list=[1,2,3,2]\n",
        "list.pop()\n",
        "print(list)"
      ]
    },
    {
      "cell_type": "code",
      "execution_count": null,
      "metadata": {
        "colab": {
          "base_uri": "https://localhost:8080/"
        },
        "id": "fGOe8ZcceZrl",
        "outputId": "d3575a99-eef8-4b55-e83f-7d0b36c6bf60"
      },
      "outputs": [
        {
          "name": "stdout",
          "output_type": "stream",
          "text": [
            "[1, 3, 2]\n"
          ]
        }
      ],
      "source": [
        "#pop()\n",
        "list=[1,2,3,2]\n",
        "list.pop(1)\n",
        "print(list)\n"
      ]
    },
    {
      "cell_type": "code",
      "execution_count": null,
      "metadata": {
        "colab": {
          "base_uri": "https://localhost:8080/"
        },
        "id": "4Y3m46W4esNu",
        "outputId": "f1567f0c-5d55-4182-cda3-c9d8d2857d97"
      },
      "outputs": [
        {
          "name": "stdout",
          "output_type": "stream",
          "text": [
            "2\n"
          ]
        }
      ],
      "source": [
        "#index()\n",
        "list=[1,2,3,4]\n",
        "print(list.index(3))"
      ]
    },
    {
      "cell_type": "code",
      "execution_count": null,
      "metadata": {
        "colab": {
          "base_uri": "https://localhost:8080/"
        },
        "id": "6qzIWvGgfKrh",
        "outputId": "a2d97b47-ccc3-42e4-f9d4-5a71e1a37c37"
      },
      "outputs": [
        {
          "name": "stdout",
          "output_type": "stream",
          "text": [
            "2\n"
          ]
        }
      ],
      "source": [
        "#count()\n",
        "list=[3,1,2,3,4]\n",
        "print(list.count(3))"
      ]
    },
    {
      "cell_type": "code",
      "execution_count": null,
      "metadata": {
        "colab": {
          "base_uri": "https://localhost:8080/"
        },
        "id": "Rg7yEve-fr0B",
        "outputId": "94dc70b8-306a-4f87-c214-3faf7527f9fc"
      },
      "outputs": [
        {
          "name": "stdout",
          "output_type": "stream",
          "text": [
            "[22, 33, 41, 67, 89]\n"
          ]
        }
      ],
      "source": [
        "#sort\n",
        "list=[41,22,67,89,33]\n",
        "list.sort()\n",
        "print(list)"
      ]
    },
    {
      "cell_type": "code",
      "execution_count": null,
      "metadata": {
        "colab": {
          "base_uri": "https://localhost:8080/"
        },
        "id": "8Vy8zx3kgNrd",
        "outputId": "18b530ac-7ea8-44a5-be22-e19f360f8d08"
      },
      "outputs": [
        {
          "name": "stdout",
          "output_type": "stream",
          "text": [
            "[4, 3, 2, 1]\n"
          ]
        }
      ],
      "source": [
        "#reverse\n",
        "list=[1,2,3,4]\n",
        "list.reverse()\n",
        "print(list)"
      ]
    },
    {
      "cell_type": "code",
      "execution_count": null,
      "metadata": {
        "colab": {
          "base_uri": "https://localhost:8080/"
        },
        "id": "3i5zfQENgZns",
        "outputId": "cc647290-1214-457a-87d1-714849741577"
      },
      "outputs": [
        {
          "name": "stdout",
          "output_type": "stream",
          "text": [
            "[]\n"
          ]
        }
      ],
      "source": [
        "#clear\n",
        "list=[1,2,3,4]\n",
        "list.clear()\n",
        "print(list)"
      ]
    },
    {
      "cell_type": "code",
      "execution_count": null,
      "metadata": {
        "colab": {
          "base_uri": "https://localhost:8080/"
        },
        "id": "MA4QfQcjgkU5",
        "outputId": "3ec42632-b846-472d-ca96-190f00958077"
      },
      "outputs": [
        {
          "name": "stdout",
          "output_type": "stream",
          "text": [
            "[90, 78, 34, 23, 12, 9]\n"
          ]
        }
      ],
      "source": [
        "#sort descending\n",
        "list=[34,23,12,9,78,90]\n",
        "list.sort(reverse=True)\n",
        "print(list)"
      ]
    },
    {
      "cell_type": "code",
      "execution_count": null,
      "metadata": {
        "colab": {
          "base_uri": "https://localhost:8080/"
        },
        "id": "Wa3orlnA25zh",
        "outputId": "7ccd6f30-5a91-4c2d-aadc-c188cec32161"
      },
      "outputs": [
        {
          "name": "stdout",
          "output_type": "stream",
          "text": [
            "{1, 2, 3, 4}\n"
          ]
        }
      ],
      "source": [
        "#set add\n",
        "myset={1,2,3}\n",
        "myset.add(4)\n",
        "print(myset)\n"
      ]
    },
    {
      "cell_type": "code",
      "execution_count": null,
      "metadata": {
        "colab": {
          "base_uri": "https://localhost:8080/"
        },
        "id": "pMqkbxV7JPAp",
        "outputId": "d185c2d0-c29f-4fde-826d-228caf55198c"
      },
      "outputs": [
        {
          "name": "stdout",
          "output_type": "stream",
          "text": [
            "{1, 2, 3, 4, 5, 6}\n"
          ]
        }
      ],
      "source": [
        "myset={1,2,3}\n",
        "myset.update([4,3,5,6])\n",
        "print(myset)"
      ]
    },
    {
      "cell_type": "code",
      "execution_count": null,
      "metadata": {
        "colab": {
          "base_uri": "https://localhost:8080/"
        },
        "id": "30EM6p5IJ_-x",
        "outputId": "7dc21c0a-d492-4fbc-bce8-e694a5c7bef5"
      },
      "outputs": [
        {
          "name": "stdout",
          "output_type": "stream",
          "text": [
            "{1, 2}\n"
          ]
        }
      ],
      "source": [
        "myset={1,2,3}\n",
        "myset.remove(3)\n",
        "print(myset)"
      ]
    },
    {
      "cell_type": "code",
      "execution_count": null,
      "metadata": {
        "colab": {
          "base_uri": "https://localhost:8080/"
        },
        "id": "ilO16TifjRJM",
        "outputId": "dac67b74-74d7-4708-c06d-fec7599e2dbc"
      },
      "outputs": [
        {
          "data": {
            "text/plain": [
              "7"
            ]
          },
          "execution_count": 1,
          "metadata": {},
          "output_type": "execute_result"
        }
      ],
      "source": [
        "#default parameter\n",
        "def sum(a,b):\n",
        "  c=a+b\n",
        "  return c\n",
        "sum(5,2)\n",
        "\n"
      ]
    },
    {
      "cell_type": "code",
      "execution_count": null,
      "metadata": {
        "colab": {
          "base_uri": "https://localhost:8080/"
        },
        "id": "nMn4s5a0jxLQ",
        "outputId": "93aa7c98-1260-4351-a153-8ce89e1089cc"
      },
      "outputs": [
        {
          "data": {
            "text/plain": [
              "5"
            ]
          },
          "execution_count": 2,
          "metadata": {},
          "output_type": "execute_result"
        }
      ],
      "source": [
        "#keyword parameter\n",
        "def sum(a=3,b=2):\n",
        "  c=a+b\n",
        "  return c\n",
        "sum()"
      ]
    },
    {
      "cell_type": "code",
      "execution_count": null,
      "metadata": {
        "colab": {
          "base_uri": "https://localhost:8080/"
        },
        "id": "Xc8cKFkzkB0c",
        "outputId": "c0f34f6a-3e12-4573-b282-5f66fe04e6fa"
      },
      "outputs": [
        {
          "data": {
            "text/plain": [
              "(1, 2, 3, 4, 5)"
            ]
          },
          "execution_count": 4,
          "metadata": {},
          "output_type": "execute_result"
        }
      ],
      "source": [
        "#orbitory argument parameter passing\n",
        "def sum(*a):\n",
        "  return a\n",
        "sum(1,2,3,4,5)\n"
      ]
    },
    {
      "cell_type": "code",
      "execution_count": null,
      "metadata": {
        "colab": {
          "base_uri": "https://localhost:8080/"
        },
        "id": "AYK38osKqa80",
        "outputId": "fd5a54b1-3102-425d-8328-df801e588b87"
      },
      "outputs": [
        {
          "name": "stdout",
          "output_type": "stream",
          "text": [
            "10\n"
          ]
        }
      ],
      "source": [
        "#reference parameter passing\n",
        "def sum(a):\n",
        "  print(a)\n",
        "s=10\n",
        "sum(s)\n"
      ]
    },
    {
      "cell_type": "code",
      "execution_count": null,
      "metadata": {
        "colab": {
          "base_uri": "https://localhost:8080/"
        },
        "id": "4ejKuwd9qzyO",
        "outputId": "3884bb42-29b1-4401-a168-211ef4db9759"
      },
      "outputs": [
        {
          "name": "stdout",
          "output_type": "stream",
          "text": [
            "{'name': 'amal', 'age': 30}\n"
          ]
        }
      ],
      "source": [
        "def word(**x):\n",
        "  print(x)\n",
        "word(name=\"amal\",age=30)"
      ]
    },
    {
      "cell_type": "code",
      "execution_count": null,
      "metadata": {
        "colab": {
          "background_save": true,
          "base_uri": "https://localhost:8080/"
        },
        "id": "UNvHJY1hRjOo",
        "outputId": "2ac6731e-821c-43ff-a4e4-2d1b47a54335"
      },
      "outputs": [
        {
          "name": "stdout",
          "output_type": "stream",
          "text": [
            "no such contact\n",
            "{'name': 'amad', 'phnone no': 7879}\n"
          ]
        }
      ],
      "source": [
        "#program for phnbook\n",
        "\n",
        "contact={}\n",
        "\n",
        "def add():\n",
        "  name=input(\"enter the name\")\n",
        "  phno=int(input(\"enter the phno\"))\n",
        "  contact['name']=name\n",
        "  contact['phnone no']=phno\n",
        "\n",
        "\n",
        "def search():\n",
        "  name=input(\"enter the name to search in contact\")\n",
        "  if name in contact:\n",
        "    print(f\"{name} found in contacts\")\n",
        "  else:\n",
        "    print(f\"no such contact\")\n",
        "\n",
        "def update():\n",
        "  name=input(\"enter the name you want to edit\")\n",
        "\n",
        "def display():\n",
        "  print(contact)\n",
        "\n",
        "def delete():\n",
        "  name=input(\"enter the name to delete\")\n",
        "  del contact[name]\n",
        "  print(f\"{name} deleted\")\n",
        "\n",
        "while(1):\n",
        "  choice=input(\"enter 1 for add contact\\n 2 for search contact\\n 3 for update contact\\n 4 for display contact\\n 5 for delete contact\\n 6 for exit\")\n",
        "\n",
        "  if choice==1:\n",
        "     add()\n",
        "  if choice==2:\n",
        "    search()\n",
        "  if choice==3:\n",
        "    update()\n",
        "  if choice==4:\n",
        "    display()\n",
        "  if choice==5:\n",
        "    delete()\n"
      ]
    }
  ],
  "metadata": {
    "colab": {
      "provenance": [],
      "authorship_tag": "ABX9TyPWIToSonKbWFEIN5S0GlPR",
      "include_colab_link": true
    },
    "kernelspec": {
      "display_name": "Python 3",
      "name": "python3"
    },
    "language_info": {
      "name": "python"
    }
  },
  "nbformat": 4,
  "nbformat_minor": 0
}